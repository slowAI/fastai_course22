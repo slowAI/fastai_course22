{
 "cells": [
  {
   "cell_type": "code",
   "execution_count": 1,
   "metadata": {},
   "outputs": [],
   "source": [
    "import math\n",
    "import numpy as np\n",
    "import matplotlib.pyplot as plt\n",
    "%matplotlib inline"
   ]
  },
  {
   "cell_type": "code",
   "execution_count": 2,
   "metadata": {},
   "outputs": [],
   "source": [
    "def f(x):\n",
    "    return 3 * x**2 - 4 * x + 5\n"
   ]
  },
  {
   "cell_type": "code",
   "execution_count": 3,
   "metadata": {},
   "outputs": [
    {
     "data": {
      "text/plain": [
       "[<matplotlib.lines.Line2D at 0x107bd7310>]"
      ]
     },
     "execution_count": 3,
     "metadata": {},
     "output_type": "execute_result"
    },
    {
     "data": {
      "image/png": "[encoded data removed]",
      "text/plain": [
       "<Figure size 432x288 with 1 Axes>"
      ]
     },
     "metadata": {
      "needs_background": "light"
     },
     "output_type": "display_data"
    }
   ],
   "source": [
    "xs = np.arange(-5, 5, 0.25)\n",
    "ys = f(xs)\n",
    "plt.plot(xs, ys)\n"
   ]
  },
  {
   "cell_type": "code",
   "execution_count": 4,
   "metadata": {},
   "outputs": [
    {
     "data": {
      "text/plain": [
       "2.9753977059954195e-07"
      ]
     },
     "execution_count": 4,
     "metadata": {},
     "output_type": "execute_result"
    }
   ],
   "source": [
    "h = 0.0000001\n",
    "x = 2 / 3\n",
    "(f(x + h) - f(x)) / h\n"
   ]
  },
  {
   "cell_type": "code",
   "execution_count": 5,
   "metadata": {},
   "outputs": [
    {
     "name": "stdout",
     "output_type": "stream",
     "text": [
      "4.0\n"
     ]
    }
   ],
   "source": [
    "# les get more complex\n",
    "a = 2.0\n",
    "b = -3.0\n",
    "c = 10.0\n",
    "d = a * b + c\n",
    "print(d)\n"
   ]
  },
  {
   "cell_type": "code",
   "execution_count": 6,
   "metadata": {},
   "outputs": [
    {
     "name": "stdout",
     "output_type": "stream",
     "text": [
      "d1 4.0\n",
      "d2 4.0001\n",
      "slope 0.9999999999976694\n"
     ]
    }
   ],
   "source": [
    "h = 0.0001\n",
    "\n",
    "# inputs\n",
    "a = 2.0\n",
    "b = -3.0\n",
    "c = 10.0\n",
    "\n",
    "d1 = a * b + c\n",
    "c += h\n",
    "d2 = a * b + c\n",
    "\n",
    "print(\"d1\", d1)\n",
    "print(\"d2\", d2)\n",
    "print(\"slope\", (d2 - d1) / h)\n"
   ]
  },
  {
   "cell_type": "code",
   "execution_count": 16,
   "metadata": {},
   "outputs": [],
   "source": [
    "class Value:\n",
    "    def __init__(self, data, _children=(), _op=\"\", label=\"\"):\n",
    "        self.data = data\n",
    "        self.grad = 0.0\n",
    "        self._backward = lambda: None\n",
    "        self._prev = set(_children)\n",
    "        self._op = _op\n",
    "        self.label = label\n",
    "\n",
    "    def __repr__(self):\n",
    "        return f\"Value(data={self.data})\"\n",
    "\n",
    "    def __add__(self, other):\n",
    "        other = other if isinstance(other, Value) else Value(other)\n",
    "        out = Value(self.data + other.data, (self, other), \"+\")\n",
    "\n",
    "        def _backward():\n",
    "            self.grad += 1.0 * out.grad\n",
    "            other.grad += 1.0 * out.grad\n",
    "\n",
    "        out._backward = _backward\n",
    "\n",
    "        return out\n",
    "\n",
    "    def __mul__(self, other):\n",
    "        other = other if isinstance(other, Value) else Value(other)\n",
    "        out = Value(self.data * other.data, (self, other), \"*\")\n",
    "\n",
    "        def _backward():\n",
    "            self.grad += other.data * out.grad\n",
    "            other.grad += self.data * out.grad\n",
    "\n",
    "        out._backward = _backward\n",
    "\n",
    "        return out\n",
    "\n",
    "    def __rmul__(self, other):\n",
    "        return self * other\n",
    "\n",
    "    def tanh(self):\n",
    "        x = self.data\n",
    "        t = (math.exp(2 * x) - 1) / (math.exp(2 * x) + 1)\n",
    "        out = Value(t, (self,), \"tanh\")\n",
    "\n",
    "        def _backward():\n",
    "            self.grad += (1 - t**2) * out.grad\n",
    "\n",
    "        out._backward = _backward\n",
    "\n",
    "        return out\n",
    "\n",
    "    def backward(self):\n",
    "\n",
    "        topo = []\n",
    "        visited = set()\n",
    "\n",
    "        def build_topo(v):\n",
    "            if v not in visited:\n",
    "                visited.add(v)\n",
    "                for child in v._prev:\n",
    "                    build_topo(child)\n",
    "                topo.append(v)\n",
    "\n",
    "        build_topo(self)\n",
    "\n",
    "        self.grad = 1.0\n",
    "        for node in reversed(topo):\n",
    "            node._backward()\n"
   ]
  },
  {
   "cell_type": "code",
   "execution_count": 17,
   "metadata": {},
   "outputs": [
    {
     "data": {
      "text/plain": [
       "Value(data=3.0)"
      ]
     },
     "execution_count": 17,
     "metadata": {},
     "output_type": "execute_result"
    }
   ],
   "source": [
    "a = Value(2.0)\n",
    "a + 1\n"
   ]
  },
  {
   "cell_type": "code",
   "execution_count": 18,
   "metadata": {},
   "outputs": [
    {
     "data": {
      "text/plain": [
       "Value(data=4.0)"
      ]
     },
     "execution_count": 18,
     "metadata": {},
     "output_type": "execute_result"
    }
   ],
   "source": [
    "a * 2\n"
   ]
  },
  {
   "cell_type": "code",
   "execution_count": 19,
   "metadata": {},
   "outputs": [
    {
     "data": {
      "text/plain": [
       "Value(data=4.0)"
      ]
     },
     "execution_count": 19,
     "metadata": {},
     "output_type": "execute_result"
    }
   ],
   "source": [
    "2 * a\n"
   ]
  },
  {
   "cell_type": "code",
   "execution_count": null,
   "metadata": {},
   "outputs": [],
   "source": []
  },
  {
   "cell_type": "code",
   "execution_count": null,
   "metadata": {},
   "outputs": [],
   "source": []
  },
  {
   "cell_type": "code",
   "execution_count": null,
   "metadata": {},
   "outputs": [],
   "source": []
  },
  {
   "cell_type": "code",
   "execution_count": null,
   "metadata": {},
   "outputs": [],
   "source": []
  },
  {
   "cell_type": "code",
   "execution_count": 8,
   "metadata": {},
   "outputs": [
    {
     "ename": "NameError",
     "evalue": "name 'L' is not defined",
     "output_type": "error",
     "traceback": [
      "\u001b[0;31m---------------------------------------------------------------------------\u001b[0m",
      "\u001b[0;31mNameError\u001b[0m                                 Traceback (most recent call last)",
      "\u001b[1;32m/Users/ddobrinskiy/proj/personal/fastai_course22/micrograd/nb1.ipynb Cell 8\u001b[0m in \u001b[0;36m<cell line: 37>\u001b[0;34m()\u001b[0m\n\u001b[1;32m     <a href='vscode-notebook-cell:/Users/ddobrinskiy/proj/personal/fastai_course22/micrograd/nb1.ipynb#ch0000009?line=32'>33</a>\u001b[0m     dot\u001b[39m.\u001b[39medge(\u001b[39mstr\u001b[39m(\u001b[39mid\u001b[39m(n1)), \u001b[39mstr\u001b[39m(\u001b[39mid\u001b[39m(n2)) \u001b[39m+\u001b[39m n2\u001b[39m.\u001b[39m_op)\n\u001b[1;32m     <a href='vscode-notebook-cell:/Users/ddobrinskiy/proj/personal/fastai_course22/micrograd/nb1.ipynb#ch0000009?line=34'>35</a>\u001b[0m   \u001b[39mreturn\u001b[39;00m dot\n\u001b[0;32m---> <a href='vscode-notebook-cell:/Users/ddobrinskiy/proj/personal/fastai_course22/micrograd/nb1.ipynb#ch0000009?line=36'>37</a>\u001b[0m draw_dot(L)\n",
      "\u001b[0;31mNameError\u001b[0m: name 'L' is not defined"
     ]
    }
   ],
   "source": [
    "from graphviz import Digraph\n",
    "\n",
    "\n",
    "def trace(root):\n",
    "    # builds a set of all nodes and edges in a graph\n",
    "    nodes, edges = set(), set()\n",
    "\n",
    "    def build(v):\n",
    "        if v not in nodes:\n",
    "            nodes.add(v)\n",
    "            for child in v._prev:\n",
    "                edges.add((child, v))\n",
    "                build(child)\n",
    "\n",
    "    build(root)\n",
    "    return nodes, edges\n",
    "\n",
    "\n",
    "def draw_dot(root):\n",
    "    dot = Digraph(format=\"svg\", graph_attr={\"rankdir\": \"LR\"})\n",
    "    # TB = top to bottom\n",
    "    # LR = left to right\n",
    "\n",
    "    nodes, edges = trace(root)\n",
    "    for n in nodes:\n",
    "        uid = str(id(n))\n",
    "        # for any value in the graph, create a rectangular ('record') node for it\n",
    "        dot.node(\n",
    "            name=uid,\n",
    "            label=\"%s | data %.4f | grad %.4f\" % (n.label, n.data, n.grad),\n",
    "            shape=\"record\",\n",
    "        )\n",
    "        if n._op:\n",
    "            # if this value is a result of some operation, create an op node for it\n",
    "            dot.node(name=uid + n._op, label=n._op)\n",
    "            # and connect this node to it\n",
    "            dot.edge(uid + n._op, uid)\n",
    "\n",
    "    for n1, n2 in edges:\n",
    "        # connect n1 to the op node of n2\n",
    "        dot.edge(str(id(n1)), str(id(n2)) + n2._op)\n",
    "\n",
    "    return dot\n",
    "\n",
    "\n",
    "draw_dot(L)\n"
   ]
  },
  {
   "cell_type": "code",
   "execution_count": null,
   "metadata": {},
   "outputs": [],
   "source": [
    "# inputs x1,x2\n",
    "x1 = Value(2.0, label=\"x1\")\n",
    "x2 = Value(0.0, label=\"x2\")\n",
    "# weights w1,w2\n",
    "w1 = Value(-3.0, label=\"w1\")\n",
    "w2 = Value(1.0, label=\"w2\")\n",
    "# bias of the neuron\n",
    "b = Value(6.8813735870195432, label=\"b\")\n",
    "# x1*w1 + x2*w2 + b\n",
    "x1w1 = x1 * w1\n",
    "x1w1.label = \"x1*w1\"\n",
    "x2w2 = x2 * w2\n",
    "x2w2.label = \"x2*w2\"\n",
    "x1w1x2w2 = x1w1 + x2w2\n",
    "x1w1x2w2.label = \"x1*w1 + x2*w2\"\n",
    "n = x1w1x2w2 + b\n",
    "n.label = \"n\"\n",
    "o = n.tanh()\n",
    "o.label = \"o\"\n"
   ]
  },
  {
   "cell_type": "code",
   "execution_count": null,
   "metadata": {},
   "outputs": [
    {
     "data": {
      "image/svg+xml": "<?xml version=\"1.0\" encoding=\"UTF-8\" standalone=\"no\"?>\n<!DOCTYPE svg PUBLIC \"-//W3C//DTD SVG 1.1//EN\"\n \"http://www.w3.org/Graphics/SVG/1.1/DTD/svg11.dtd\">\n<!-- Generated by graphviz version 5.0.0 (20220707.1540)\n -->\n<!-- Pages: 1 -->\n<svg width=\"953pt\" height=\"342pt\"\n viewBox=\"0.00 0.00 953.00 342.00\" xmlns=\"http://www.w3.org/2000/svg\" xmlns:xlink=\"http://www.w3.org/1999/xlink\">\n<g id=\"graph0\" class=\"graph\" transform=\"scale(1 1) rotate(0) translate(4 338)\">\n<polygon fill=\"white\" stroke=\"transparent\" points=\"-4,4 -4,-338 949,-338 949,4 -4,4\"/>\n<!-- 5352682016 -->\n<g id=\"node1\" class=\"node\">\n<title>5352682016</title>\n<polygon fill=\"none\" stroke=\"black\" points=\"863,-176.5 863,-245.5 945,-245.5 945,-176.5 863,-176.5\"/>\n<text text-anchor=\"middle\" x=\"904\" y=\"-230.3\" font-family=\"Times,serif\" font-size=\"14.00\">o</text>\n<polyline fill=\"none\" stroke=\"black\" points=\"863,-222.5 945,-222.5 \"/>\n<text text-anchor=\"middle\" x=\"904\" y=\"-207.3\" font-family=\"Times,serif\" font-size=\"14.00\">data 0.7071</text>\n<polyline fill=\"none\" stroke=\"black\" points=\"863,-199.5 945,-199.5 \"/>\n<text text-anchor=\"middle\" x=\"904\" y=\"-184.3\" font-family=\"Times,serif\" font-size=\"14.00\">grad 1.0000</text>\n</g>\n<!-- 5352682016tanh -->\n<g id=\"node2\" class=\"node\">\n<title>5352682016tanh</title>\n<ellipse fill=\"none\" stroke=\"black\" cx=\"800\" cy=\"-211\" rx=\"27\" ry=\"18\"/>\n<text text-anchor=\"middle\" x=\"800\" y=\"-207.3\" font-family=\"Times,serif\" font-size=\"14.00\">tanh</text>\n</g>\n<!-- 5352682016tanh&#45;&gt;5352682016 -->\n<g id=\"edge1\" class=\"edge\">\n<title>5352682016tanh&#45;&gt;5352682016</title>\n<path fill=\"none\" stroke=\"black\" d=\"M827,-211C834.81,-211 843.65,-211 852.48,-211\"/>\n<polygon fill=\"black\" stroke=\"black\" points=\"852.76,-214.5 862.76,-211 852.76,-207.5 852.76,-214.5\"/>\n</g>\n<!-- 5353997888 -->\n<g id=\"node3\" class=\"node\">\n<title>5353997888</title>\n<polygon fill=\"none\" stroke=\"black\" points=\"0,-264.5 0,-333.5 86,-333.5 86,-264.5 0,-264.5\"/>\n<text text-anchor=\"middle\" x=\"43\" y=\"-318.3\" font-family=\"Times,serif\" font-size=\"14.00\">x1</text>\n<polyline fill=\"none\" stroke=\"black\" points=\"0,-310.5 86,-310.5 \"/>\n<text text-anchor=\"middle\" x=\"43\" y=\"-295.3\" font-family=\"Times,serif\" font-size=\"14.00\">data 2.0000</text>\n<polyline fill=\"none\" stroke=\"black\" points=\"0,-287.5 86,-287.5 \"/>\n<text text-anchor=\"middle\" x=\"43\" y=\"-272.3\" font-family=\"Times,serif\" font-size=\"14.00\">grad &#45;1.5000</text>\n</g>\n<!-- 5354049824* -->\n<g id=\"node10\" class=\"node\">\n<title>5354049824*</title>\n<ellipse fill=\"none\" stroke=\"black\" cx=\"149\" cy=\"-211\" rx=\"27\" ry=\"18\"/>\n<text text-anchor=\"middle\" x=\"149\" y=\"-207.3\" font-family=\"Times,serif\" font-size=\"14.00\">*</text>\n</g>\n<!-- 5353997888&#45;&gt;5354049824* -->\n<g id=\"edge12\" class=\"edge\">\n<title>5353997888&#45;&gt;5354049824*</title>\n<path fill=\"none\" stroke=\"black\" d=\"M84.81,-264.47C97.9,-253.39 111.99,-241.47 123.54,-231.7\"/>\n<polygon fill=\"black\" stroke=\"black\" points=\"126.07,-234.14 131.44,-225.01 121.55,-228.8 126.07,-234.14\"/>\n</g>\n<!-- 5353997936 -->\n<g id=\"node4\" class=\"node\">\n<title>5353997936</title>\n<polygon fill=\"none\" stroke=\"black\" points=\"2,-88.5 2,-157.5 84,-157.5 84,-88.5 2,-88.5\"/>\n<text text-anchor=\"middle\" x=\"43\" y=\"-142.3\" font-family=\"Times,serif\" font-size=\"14.00\">x2</text>\n<polyline fill=\"none\" stroke=\"black\" points=\"2,-134.5 84,-134.5 \"/>\n<text text-anchor=\"middle\" x=\"43\" y=\"-119.3\" font-family=\"Times,serif\" font-size=\"14.00\">data 0.0000</text>\n<polyline fill=\"none\" stroke=\"black\" points=\"2,-111.5 84,-111.5 \"/>\n<text text-anchor=\"middle\" x=\"43\" y=\"-96.3\" font-family=\"Times,serif\" font-size=\"14.00\">grad 0.5000</text>\n</g>\n<!-- 5354059040* -->\n<g id=\"node12\" class=\"node\">\n<title>5354059040*</title>\n<ellipse fill=\"none\" stroke=\"black\" cx=\"149\" cy=\"-123\" rx=\"27\" ry=\"18\"/>\n<text text-anchor=\"middle\" x=\"149\" y=\"-119.3\" font-family=\"Times,serif\" font-size=\"14.00\">*</text>\n</g>\n<!-- 5353997936&#45;&gt;5354059040* -->\n<g id=\"edge8\" class=\"edge\">\n<title>5353997936&#45;&gt;5354059040*</title>\n<path fill=\"none\" stroke=\"black\" d=\"M84.21,-123C93.25,-123 102.79,-123 111.66,-123\"/>\n<polygon fill=\"black\" stroke=\"black\" points=\"111.69,-126.5 121.69,-123 111.69,-119.5 111.69,-126.5\"/>\n</g>\n<!-- 5353996928 -->\n<g id=\"node5\" class=\"node\">\n<title>5353996928</title>\n<polygon fill=\"none\" stroke=\"black\" points=\"0.5,-176.5 0.5,-245.5 85.5,-245.5 85.5,-176.5 0.5,-176.5\"/>\n<text text-anchor=\"middle\" x=\"43\" y=\"-230.3\" font-family=\"Times,serif\" font-size=\"14.00\">w1</text>\n<polyline fill=\"none\" stroke=\"black\" points=\"0.5,-222.5 85.5,-222.5 \"/>\n<text text-anchor=\"middle\" x=\"43\" y=\"-207.3\" font-family=\"Times,serif\" font-size=\"14.00\">data &#45;3.0000</text>\n<polyline fill=\"none\" stroke=\"black\" points=\"0.5,-199.5 85.5,-199.5 \"/>\n<text text-anchor=\"middle\" x=\"43\" y=\"-184.3\" font-family=\"Times,serif\" font-size=\"14.00\">grad 1.0000</text>\n</g>\n<!-- 5353996928&#45;&gt;5354049824* -->\n<g id=\"edge9\" class=\"edge\">\n<title>5353996928&#45;&gt;5354049824*</title>\n<path fill=\"none\" stroke=\"black\" d=\"M85.7,-211C94.28,-211 103.26,-211 111.63,-211\"/>\n<polygon fill=\"black\" stroke=\"black\" points=\"111.85,-214.5 121.85,-211 111.85,-207.5 111.85,-214.5\"/>\n</g>\n<!-- 5353997456 -->\n<g id=\"node6\" class=\"node\">\n<title>5353997456</title>\n<polygon fill=\"none\" stroke=\"black\" points=\"2,-0.5 2,-69.5 84,-69.5 84,-0.5 2,-0.5\"/>\n<text text-anchor=\"middle\" x=\"43\" y=\"-54.3\" font-family=\"Times,serif\" font-size=\"14.00\">w2</text>\n<polyline fill=\"none\" stroke=\"black\" points=\"2,-46.5 84,-46.5 \"/>\n<text text-anchor=\"middle\" x=\"43\" y=\"-31.3\" font-family=\"Times,serif\" font-size=\"14.00\">data 1.0000</text>\n<polyline fill=\"none\" stroke=\"black\" points=\"2,-23.5 84,-23.5 \"/>\n<text text-anchor=\"middle\" x=\"43\" y=\"-8.3\" font-family=\"Times,serif\" font-size=\"14.00\">grad 0.0000</text>\n</g>\n<!-- 5353997456&#45;&gt;5354059040* -->\n<g id=\"edge11\" class=\"edge\">\n<title>5353997456&#45;&gt;5354059040*</title>\n<path fill=\"none\" stroke=\"black\" d=\"M84.21,-69.02C97.58,-80.34 112.06,-92.59 123.83,-102.55\"/>\n<polygon fill=\"black\" stroke=\"black\" points=\"121.61,-105.26 131.51,-109.04 126.13,-99.91 121.61,-105.26\"/>\n</g>\n<!-- 5352683168 -->\n<g id=\"node7\" class=\"node\">\n<title>5352683168</title>\n<polygon fill=\"none\" stroke=\"black\" points=\"655,-176.5 655,-245.5 737,-245.5 737,-176.5 655,-176.5\"/>\n<text text-anchor=\"middle\" x=\"696\" y=\"-230.3\" font-family=\"Times,serif\" font-size=\"14.00\">n</text>\n<polyline fill=\"none\" stroke=\"black\" points=\"655,-222.5 737,-222.5 \"/>\n<text text-anchor=\"middle\" x=\"696\" y=\"-207.3\" font-family=\"Times,serif\" font-size=\"14.00\">data 0.8814</text>\n<polyline fill=\"none\" stroke=\"black\" points=\"655,-199.5 737,-199.5 \"/>\n<text text-anchor=\"middle\" x=\"696\" y=\"-184.3\" font-family=\"Times,serif\" font-size=\"14.00\">grad 0.5000</text>\n</g>\n<!-- 5352683168&#45;&gt;5352682016tanh -->\n<g id=\"edge14\" class=\"edge\">\n<title>5352683168&#45;&gt;5352682016tanh</title>\n<path fill=\"none\" stroke=\"black\" d=\"M737.02,-211C745.5,-211 754.4,-211 762.73,-211\"/>\n<polygon fill=\"black\" stroke=\"black\" points=\"762.89,-214.5 772.89,-211 762.89,-207.5 762.89,-214.5\"/>\n</g>\n<!-- 5352683168+ -->\n<g id=\"node8\" class=\"node\">\n<title>5352683168+</title>\n<ellipse fill=\"none\" stroke=\"black\" cx=\"592\" cy=\"-211\" rx=\"27\" ry=\"18\"/>\n<text text-anchor=\"middle\" x=\"592\" y=\"-207.3\" font-family=\"Times,serif\" font-size=\"14.00\">+</text>\n</g>\n<!-- 5352683168+&#45;&gt;5352683168 -->\n<g id=\"edge2\" class=\"edge\">\n<title>5352683168+&#45;&gt;5352683168</title>\n<path fill=\"none\" stroke=\"black\" d=\"M619,-211C626.81,-211 635.65,-211 644.48,-211\"/>\n<polygon fill=\"black\" stroke=\"black\" points=\"644.76,-214.5 654.76,-211 644.76,-207.5 644.76,-214.5\"/>\n</g>\n<!-- 5354049824 -->\n<g id=\"node9\" class=\"node\">\n<title>5354049824</title>\n<polygon fill=\"none\" stroke=\"black\" points=\"212,-176.5 212,-245.5 297,-245.5 297,-176.5 212,-176.5\"/>\n<text text-anchor=\"middle\" x=\"254.5\" y=\"-230.3\" font-family=\"Times,serif\" font-size=\"14.00\">x1*w1</text>\n<polyline fill=\"none\" stroke=\"black\" points=\"212,-222.5 297,-222.5 \"/>\n<text text-anchor=\"middle\" x=\"254.5\" y=\"-207.3\" font-family=\"Times,serif\" font-size=\"14.00\">data &#45;6.0000</text>\n<polyline fill=\"none\" stroke=\"black\" points=\"212,-199.5 297,-199.5 \"/>\n<text text-anchor=\"middle\" x=\"254.5\" y=\"-184.3\" font-family=\"Times,serif\" font-size=\"14.00\">grad 0.5000</text>\n</g>\n<!-- 5352681920+ -->\n<g id=\"node15\" class=\"node\">\n<title>5352681920+</title>\n<ellipse fill=\"none\" stroke=\"black\" cx=\"360\" cy=\"-167\" rx=\"27\" ry=\"18\"/>\n<text text-anchor=\"middle\" x=\"360\" y=\"-163.3\" font-family=\"Times,serif\" font-size=\"14.00\">+</text>\n</g>\n<!-- 5354049824&#45;&gt;5352681920+ -->\n<g id=\"edge7\" class=\"edge\">\n<title>5354049824&#45;&gt;5352681920+</title>\n<path fill=\"none\" stroke=\"black\" d=\"M297,-193.36C307.21,-189.02 317.97,-184.44 327.61,-180.34\"/>\n<polygon fill=\"black\" stroke=\"black\" points=\"328.98,-183.56 336.81,-176.43 326.24,-177.12 328.98,-183.56\"/>\n</g>\n<!-- 5354049824*&#45;&gt;5354049824 -->\n<g id=\"edge3\" class=\"edge\">\n<title>5354049824*&#45;&gt;5354049824</title>\n<path fill=\"none\" stroke=\"black\" d=\"M176.12,-211C183.87,-211 192.64,-211 201.42,-211\"/>\n<polygon fill=\"black\" stroke=\"black\" points=\"201.68,-214.5 211.68,-211 201.68,-207.5 201.68,-214.5\"/>\n</g>\n<!-- 5354059040 -->\n<g id=\"node11\" class=\"node\">\n<title>5354059040</title>\n<polygon fill=\"none\" stroke=\"black\" points=\"213.5,-88.5 213.5,-157.5 295.5,-157.5 295.5,-88.5 213.5,-88.5\"/>\n<text text-anchor=\"middle\" x=\"254.5\" y=\"-142.3\" font-family=\"Times,serif\" font-size=\"14.00\">x2*w2</text>\n<polyline fill=\"none\" stroke=\"black\" points=\"213.5,-134.5 295.5,-134.5 \"/>\n<text text-anchor=\"middle\" x=\"254.5\" y=\"-119.3\" font-family=\"Times,serif\" font-size=\"14.00\">data 0.0000</text>\n<polyline fill=\"none\" stroke=\"black\" points=\"213.5,-111.5 295.5,-111.5 \"/>\n<text text-anchor=\"middle\" x=\"254.5\" y=\"-96.3\" font-family=\"Times,serif\" font-size=\"14.00\">grad 0.5000</text>\n</g>\n<!-- 5354059040&#45;&gt;5352681920+ -->\n<g id=\"edge13\" class=\"edge\">\n<title>5354059040&#45;&gt;5352681920+</title>\n<path fill=\"none\" stroke=\"black\" d=\"M295.52,-140.01C306.12,-144.52 317.42,-149.32 327.5,-153.61\"/>\n<polygon fill=\"black\" stroke=\"black\" points=\"326.16,-156.84 336.73,-157.53 328.9,-150.4 326.16,-156.84\"/>\n</g>\n<!-- 5354059040*&#45;&gt;5354059040 -->\n<g id=\"edge4\" class=\"edge\">\n<title>5354059040*&#45;&gt;5354059040</title>\n<path fill=\"none\" stroke=\"black\" d=\"M176.12,-123C184.39,-123 193.82,-123 203.19,-123\"/>\n<polygon fill=\"black\" stroke=\"black\" points=\"203.28,-126.5 213.28,-123 203.28,-119.5 203.28,-126.5\"/>\n</g>\n<!-- 5353997120 -->\n<g id=\"node13\" class=\"node\">\n<title>5353997120</title>\n<polygon fill=\"none\" stroke=\"black\" points=\"435,-220.5 435,-289.5 517,-289.5 517,-220.5 435,-220.5\"/>\n<text text-anchor=\"middle\" x=\"476\" y=\"-274.3\" font-family=\"Times,serif\" font-size=\"14.00\">b</text>\n<polyline fill=\"none\" stroke=\"black\" points=\"435,-266.5 517,-266.5 \"/>\n<text text-anchor=\"middle\" x=\"476\" y=\"-251.3\" font-family=\"Times,serif\" font-size=\"14.00\">data 6.8814</text>\n<polyline fill=\"none\" stroke=\"black\" points=\"435,-243.5 517,-243.5 \"/>\n<text text-anchor=\"middle\" x=\"476\" y=\"-228.3\" font-family=\"Times,serif\" font-size=\"14.00\">grad 0.5000</text>\n</g>\n<!-- 5353997120&#45;&gt;5352683168+ -->\n<g id=\"edge6\" class=\"edge\">\n<title>5353997120&#45;&gt;5352683168+</title>\n<path fill=\"none\" stroke=\"black\" d=\"M517.19,-239.49C530.78,-234.24 545.77,-228.46 558.67,-223.48\"/>\n<polygon fill=\"black\" stroke=\"black\" points=\"560,-226.72 568.07,-219.85 557.48,-220.19 560,-226.72\"/>\n</g>\n<!-- 5352681920 -->\n<g id=\"node14\" class=\"node\">\n<title>5352681920</title>\n<polygon fill=\"none\" stroke=\"black\" points=\"423,-132.5 423,-201.5 529,-201.5 529,-132.5 423,-132.5\"/>\n<text text-anchor=\"middle\" x=\"476\" y=\"-186.3\" font-family=\"Times,serif\" font-size=\"14.00\">x1*w1 + x2*w2</text>\n<polyline fill=\"none\" stroke=\"black\" points=\"423,-178.5 529,-178.5 \"/>\n<text text-anchor=\"middle\" x=\"476\" y=\"-163.3\" font-family=\"Times,serif\" font-size=\"14.00\">data &#45;6.0000</text>\n<polyline fill=\"none\" stroke=\"black\" points=\"423,-155.5 529,-155.5 \"/>\n<text text-anchor=\"middle\" x=\"476\" y=\"-140.3\" font-family=\"Times,serif\" font-size=\"14.00\">grad 0.5000</text>\n</g>\n<!-- 5352681920&#45;&gt;5352683168+ -->\n<g id=\"edge10\" class=\"edge\">\n<title>5352681920&#45;&gt;5352683168+</title>\n<path fill=\"none\" stroke=\"black\" d=\"M529.33,-187.2C539.39,-191.08 549.64,-195.04 558.83,-198.58\"/>\n<polygon fill=\"black\" stroke=\"black\" points=\"557.72,-201.91 568.31,-202.24 560.24,-195.38 557.72,-201.91\"/>\n</g>\n<!-- 5352681920+&#45;&gt;5352681920 -->\n<g id=\"edge5\" class=\"edge\">\n<title>5352681920+&#45;&gt;5352681920</title>\n<path fill=\"none\" stroke=\"black\" d=\"M387.15,-167C394.89,-167 403.71,-167 412.71,-167\"/>\n<polygon fill=\"black\" stroke=\"black\" points=\"412.9,-170.5 422.9,-167 412.9,-163.5 412.9,-170.5\"/>\n</g>\n</g>\n</svg>\n",
      "text/plain": [
       "<graphviz.graphs.Digraph at 0x13f219180>"
      ]
     },
     "execution_count": 126,
     "metadata": {},
     "output_type": "execute_result"
    }
   ],
   "source": [
    "o.backward()\n",
    "draw_dot(o)\n"
   ]
  },
  {
   "cell_type": "code",
   "execution_count": 27,
   "metadata": {},
   "outputs": [],
   "source": [
    "class Value:\n",
    "    def __init__(self, data, _children=(), _op=\"\", label=\"\"):\n",
    "        self.data = data\n",
    "        self.grad = 0.0\n",
    "        self._backward = lambda: None\n",
    "        self._prev = set(_children)\n",
    "        self._op = _op\n",
    "        self.label = label\n",
    "\n",
    "    def __repr__(self):\n",
    "        return f\"Value(data={self.data})\"\n",
    "\n",
    "    def __add__(self, other):\n",
    "        other = other if isinstance(other, Value) else Value(other)\n",
    "        out = Value(self.data + other.data, (self, other), \"+\")\n",
    "\n",
    "        def _backward():\n",
    "            self.grad += 1.0 * out.grad\n",
    "            other.grad += 1.0 * out.grad\n",
    "\n",
    "        out._backward = _backward\n",
    "\n",
    "        return out\n",
    "\n",
    "\n",
    "    def __mul__(self, other):\n",
    "        other = other if isinstance(other, Value) else Value(other)\n",
    "        out = Value(self.data * other.data, (self, other), \"*\")\n",
    "\n",
    "        def _backward():\n",
    "            self.grad += other.data * out.grad\n",
    "            other.grad += self.data * out.grad\n",
    "\n",
    "        out._backward = _backward\n",
    "\n",
    "        return out\n",
    "\n",
    "    def __rmul__(self, other):\n",
    "        return self * other\n",
    "\n",
    "    def __neg__(self): # -self\n",
    "        return self * -1\n",
    "\n",
    "    def __sub__(self, other): # self - other\n",
    "        return self + (-other)\n",
    "\n",
    "    def exp(self):\n",
    "        x = self.data\n",
    "        out = Value(math.exp(x), (self,), \"exp\")\n",
    "\n",
    "        def _backward():\n",
    "            # self.grad += math.exp(x) * out.grad\n",
    "            self.grad += out.data * out.grad\n",
    "\n",
    "        out._backward = _backward\n",
    "\n",
    "        return out\n",
    "\n",
    "    def __truediv__(self, other):  # self / other\n",
    "        return self * (other**-1)\n",
    "\n",
    "    def __pow__(self, k):\n",
    "        assert isinstance(k, (int, float)), \"only int/float powers supported\"\n",
    "        out = Value(self.data**k, _children=(self,), _op=f\"**{k}\")\n",
    "\n",
    "        def _backward():\n",
    "            self.grad += k * (self.data ** (k - 1)) * out.grad\n",
    "\n",
    "        out._backward = _backward\n",
    "        return out\n",
    "\n",
    "    def tanh(self):\n",
    "        x = self.data\n",
    "        t = (math.exp(2 * x) - 1) / (math.exp(2 * x) + 1)\n",
    "        out = Value(t, (self,), \"tanh\")\n",
    "\n",
    "        def _backward():\n",
    "            self.grad += (1 - t**2) * out.grad\n",
    "\n",
    "        out._backward = _backward\n",
    "\n",
    "        return out\n",
    "\n",
    "    def backward(self):\n",
    "\n",
    "        topo = []\n",
    "        visited = set()\n",
    "\n",
    "        def build_topo(v):\n",
    "            if v not in visited:\n",
    "                visited.add(v)\n",
    "                for child in v._prev:\n",
    "                    build_topo(child)\n",
    "                topo.append(v)\n",
    "\n",
    "        build_topo(self)\n",
    "\n",
    "        self.grad = 1.0\n",
    "        for node in reversed(topo):\n",
    "            node._backward()\n"
   ]
  },
  {
   "cell_type": "code",
   "execution_count": 32,
   "metadata": {},
   "outputs": [],
   "source": [
    "# inputs x1,x2\n",
    "x1 = Value(2.0, label=\"x1\")\n",
    "x2 = Value(0.0, label=\"x2\")\n",
    "# weights w1,w2\n",
    "w1 = Value(-3.0, label=\"w1\")\n",
    "w2 = Value(1.0, label=\"w2\")\n",
    "# bias of the neuron\n",
    "b = Value(6.8813735870195432, label=\"b\")\n",
    "# x1*w1 + x2*w2 + b\n",
    "x1w1 = x1 * w1\n",
    "x1w1.label = \"x1*w1\"\n",
    "x2w2 = x2 * w2\n",
    "x2w2.label = \"x2*w2\"\n",
    "x1w1x2w2 = x1w1 + x2w2\n",
    "x1w1x2w2.label = \"x1*w1 + x2*w2\"\n",
    "n = x1w1x2w2 + b\n",
    "n.label = \"n\"\n",
    "# -----\n",
    "epow = (2*n).exp(); epow.label = 'e**(2n)'\n",
    "o = (epow-1)/(epow+1)\n",
    "# ----\n",
    "o.label = \"o\"\n",
    "o.backward()"
   ]
  },
  {
   "cell_type": "code",
   "execution_count": 33,
   "metadata": {},
   "outputs": [
    {
     "data": {
      "image/svg+xml": "<?xml version=\"1.0\" encoding=\"UTF-8\" standalone=\"no\"?>\n<!DOCTYPE svg PUBLIC \"-//W3C//DTD SVG 1.1//EN\"\n \"http://www.w3.org/Graphics/SVG/1.1/DTD/svg11.dtd\">\n<!-- Generated by graphviz version 5.0.0 (20220707.1540)\n -->\n<!-- Pages: 1 -->\n<svg width=\"1821pt\" height=\"386pt\"\n viewBox=\"0.00 0.00 1821.00 386.00\" xmlns=\"http://www.w3.org/2000/svg\" xmlns:xlink=\"http://www.w3.org/1999/xlink\">\n<g id=\"graph0\" class=\"graph\" transform=\"scale(1 1) rotate(0) translate(4 382)\">\n<polygon fill=\"white\" stroke=\"transparent\" points=\"-4,4 -4,-382 1817,-382 1817,4 -4,4\"/>\n<!-- 4682294816 -->\n<g id=\"node1\" class=\"node\">\n<title>4682294816</title>\n<polygon fill=\"none\" stroke=\"black\" points=\"423,-132.5 423,-201.5 529,-201.5 529,-132.5 423,-132.5\"/>\n<text text-anchor=\"middle\" x=\"476\" y=\"-186.3\" font-family=\"Times,serif\" font-size=\"14.00\">x1*w1 + x2*w2</text>\n<polyline fill=\"none\" stroke=\"black\" points=\"423,-178.5 529,-178.5 \"/>\n<text text-anchor=\"middle\" x=\"476\" y=\"-163.3\" font-family=\"Times,serif\" font-size=\"14.00\">data &#45;6.0000</text>\n<polyline fill=\"none\" stroke=\"black\" points=\"423,-155.5 529,-155.5 \"/>\n<text text-anchor=\"middle\" x=\"476\" y=\"-140.3\" font-family=\"Times,serif\" font-size=\"14.00\">grad 0.5000</text>\n</g>\n<!-- 4682291360+ -->\n<g id=\"node14\" class=\"node\">\n<title>4682291360+</title>\n<ellipse fill=\"none\" stroke=\"black\" cx=\"592\" cy=\"-211\" rx=\"27\" ry=\"18\"/>\n<text text-anchor=\"middle\" x=\"592\" y=\"-207.3\" font-family=\"Times,serif\" font-size=\"14.00\">+</text>\n</g>\n<!-- 4682294816&#45;&gt;4682291360+ -->\n<g id=\"edge14\" class=\"edge\">\n<title>4682294816&#45;&gt;4682291360+</title>\n<path fill=\"none\" stroke=\"black\" d=\"M529.33,-187.2C539.39,-191.08 549.64,-195.04 558.83,-198.58\"/>\n<polygon fill=\"black\" stroke=\"black\" points=\"557.72,-201.91 568.31,-202.24 560.24,-195.38 557.72,-201.91\"/>\n</g>\n<!-- 4682294816+ -->\n<g id=\"node2\" class=\"node\">\n<title>4682294816+</title>\n<ellipse fill=\"none\" stroke=\"black\" cx=\"360\" cy=\"-167\" rx=\"27\" ry=\"18\"/>\n<text text-anchor=\"middle\" x=\"360\" y=\"-163.3\" font-family=\"Times,serif\" font-size=\"14.00\">+</text>\n</g>\n<!-- 4682294816+&#45;&gt;4682294816 -->\n<g id=\"edge1\" class=\"edge\">\n<title>4682294816+&#45;&gt;4682294816</title>\n<path fill=\"none\" stroke=\"black\" d=\"M387.15,-167C394.89,-167 403.71,-167 412.71,-167\"/>\n<polygon fill=\"black\" stroke=\"black\" points=\"412.9,-170.5 422.9,-167 412.9,-163.5 412.9,-170.5\"/>\n</g>\n<!-- 4682296352 -->\n<g id=\"node3\" class=\"node\">\n<title>4682296352</title>\n<polygon fill=\"none\" stroke=\"black\" points=\"212,-176.5 212,-245.5 297,-245.5 297,-176.5 212,-176.5\"/>\n<text text-anchor=\"middle\" x=\"254.5\" y=\"-230.3\" font-family=\"Times,serif\" font-size=\"14.00\">x1*w1</text>\n<polyline fill=\"none\" stroke=\"black\" points=\"212,-222.5 297,-222.5 \"/>\n<text text-anchor=\"middle\" x=\"254.5\" y=\"-207.3\" font-family=\"Times,serif\" font-size=\"14.00\">data &#45;6.0000</text>\n<polyline fill=\"none\" stroke=\"black\" points=\"212,-199.5 297,-199.5 \"/>\n<text text-anchor=\"middle\" x=\"254.5\" y=\"-184.3\" font-family=\"Times,serif\" font-size=\"14.00\">grad 0.5000</text>\n</g>\n<!-- 4682296352&#45;&gt;4682294816+ -->\n<g id=\"edge13\" class=\"edge\">\n<title>4682296352&#45;&gt;4682294816+</title>\n<path fill=\"none\" stroke=\"black\" d=\"M297,-193.36C307.21,-189.02 317.97,-184.44 327.61,-180.34\"/>\n<polygon fill=\"black\" stroke=\"black\" points=\"328.98,-183.56 336.81,-176.43 326.24,-177.12 328.98,-183.56\"/>\n</g>\n<!-- 4682296352* -->\n<g id=\"node4\" class=\"node\">\n<title>4682296352*</title>\n<ellipse fill=\"none\" stroke=\"black\" cx=\"149\" cy=\"-211\" rx=\"27\" ry=\"18\"/>\n<text text-anchor=\"middle\" x=\"149\" y=\"-207.3\" font-family=\"Times,serif\" font-size=\"14.00\">*</text>\n</g>\n<!-- 4682296352*&#45;&gt;4682296352 -->\n<g id=\"edge2\" class=\"edge\">\n<title>4682296352*&#45;&gt;4682296352</title>\n<path fill=\"none\" stroke=\"black\" d=\"M176.12,-211C183.87,-211 192.64,-211 201.42,-211\"/>\n<polygon fill=\"black\" stroke=\"black\" points=\"201.68,-214.5 211.68,-211 201.68,-207.5 201.68,-214.5\"/>\n</g>\n<!-- 4682290208 -->\n<g id=\"node5\" class=\"node\">\n<title>4682290208</title>\n<polygon fill=\"none\" stroke=\"black\" points=\"2,-88.5 2,-157.5 84,-157.5 84,-88.5 2,-88.5\"/>\n<text text-anchor=\"middle\" x=\"43\" y=\"-142.3\" font-family=\"Times,serif\" font-size=\"14.00\">w2</text>\n<polyline fill=\"none\" stroke=\"black\" points=\"2,-134.5 84,-134.5 \"/>\n<text text-anchor=\"middle\" x=\"43\" y=\"-119.3\" font-family=\"Times,serif\" font-size=\"14.00\">data 1.0000</text>\n<polyline fill=\"none\" stroke=\"black\" points=\"2,-111.5 84,-111.5 \"/>\n<text text-anchor=\"middle\" x=\"43\" y=\"-96.3\" font-family=\"Times,serif\" font-size=\"14.00\">grad 0.0000</text>\n</g>\n<!-- 4682295920* -->\n<g id=\"node7\" class=\"node\">\n<title>4682295920*</title>\n<ellipse fill=\"none\" stroke=\"black\" cx=\"149\" cy=\"-123\" rx=\"27\" ry=\"18\"/>\n<text text-anchor=\"middle\" x=\"149\" y=\"-119.3\" font-family=\"Times,serif\" font-size=\"14.00\">*</text>\n</g>\n<!-- 4682290208&#45;&gt;4682295920* -->\n<g id=\"edge24\" class=\"edge\">\n<title>4682290208&#45;&gt;4682295920*</title>\n<path fill=\"none\" stroke=\"black\" d=\"M84.21,-123C93.25,-123 102.79,-123 111.66,-123\"/>\n<polygon fill=\"black\" stroke=\"black\" points=\"111.69,-126.5 121.69,-123 111.69,-119.5 111.69,-126.5\"/>\n</g>\n<!-- 4682295920 -->\n<g id=\"node6\" class=\"node\">\n<title>4682295920</title>\n<polygon fill=\"none\" stroke=\"black\" points=\"213.5,-88.5 213.5,-157.5 295.5,-157.5 295.5,-88.5 213.5,-88.5\"/>\n<text text-anchor=\"middle\" x=\"254.5\" y=\"-142.3\" font-family=\"Times,serif\" font-size=\"14.00\">x2*w2</text>\n<polyline fill=\"none\" stroke=\"black\" points=\"213.5,-134.5 295.5,-134.5 \"/>\n<text text-anchor=\"middle\" x=\"254.5\" y=\"-119.3\" font-family=\"Times,serif\" font-size=\"14.00\">data 0.0000</text>\n<polyline fill=\"none\" stroke=\"black\" points=\"213.5,-111.5 295.5,-111.5 \"/>\n<text text-anchor=\"middle\" x=\"254.5\" y=\"-96.3\" font-family=\"Times,serif\" font-size=\"14.00\">grad 0.5000</text>\n</g>\n<!-- 4682295920&#45;&gt;4682294816+ -->\n<g id=\"edge15\" class=\"edge\">\n<title>4682295920&#45;&gt;4682294816+</title>\n<path fill=\"none\" stroke=\"black\" d=\"M295.52,-140.01C306.12,-144.52 317.42,-149.32 327.5,-153.61\"/>\n<polygon fill=\"black\" stroke=\"black\" points=\"326.16,-156.84 336.73,-157.53 328.9,-150.4 326.16,-156.84\"/>\n</g>\n<!-- 4682295920*&#45;&gt;4682295920 -->\n<g id=\"edge3\" class=\"edge\">\n<title>4682295920*&#45;&gt;4682295920</title>\n<path fill=\"none\" stroke=\"black\" d=\"M176.12,-123C184.39,-123 193.82,-123 203.19,-123\"/>\n<polygon fill=\"black\" stroke=\"black\" points=\"203.28,-126.5 213.28,-123 203.28,-119.5 203.28,-126.5\"/>\n</g>\n<!-- 4682296976 -->\n<g id=\"node8\" class=\"node\">\n<title>4682296976</title>\n<polygon fill=\"none\" stroke=\"black\" points=\"1073,-220.5 1073,-289.5 1155,-289.5 1155,-220.5 1073,-220.5\"/>\n<text text-anchor=\"middle\" x=\"1114\" y=\"-274.3\" font-family=\"Times,serif\" font-size=\"14.00\">e**(2n)</text>\n<polyline fill=\"none\" stroke=\"black\" points=\"1073,-266.5 1155,-266.5 \"/>\n<text text-anchor=\"middle\" x=\"1114\" y=\"-251.3\" font-family=\"Times,serif\" font-size=\"14.00\">data 5.8284</text>\n<polyline fill=\"none\" stroke=\"black\" points=\"1073,-243.5 1155,-243.5 \"/>\n<text text-anchor=\"middle\" x=\"1114\" y=\"-228.3\" font-family=\"Times,serif\" font-size=\"14.00\">grad 0.0429</text>\n</g>\n<!-- 4682296640+ -->\n<g id=\"node21\" class=\"node\">\n<title>4682296640+</title>\n<ellipse fill=\"none\" stroke=\"black\" cx=\"1220\" cy=\"-219\" rx=\"27\" ry=\"18\"/>\n<text text-anchor=\"middle\" x=\"1220\" y=\"-215.3\" font-family=\"Times,serif\" font-size=\"14.00\">+</text>\n</g>\n<!-- 4682296976&#45;&gt;4682296640+ -->\n<g id=\"edge26\" class=\"edge\">\n<title>4682296976&#45;&gt;4682296640+</title>\n<path fill=\"none\" stroke=\"black\" d=\"M1155.21,-241.08C1165.39,-237.56 1176.21,-233.81 1185.99,-230.43\"/>\n<polygon fill=\"black\" stroke=\"black\" points=\"1187.43,-233.63 1195.73,-227.05 1185.14,-227.02 1187.43,-233.63\"/>\n</g>\n<!-- 4682300768+ -->\n<g id=\"node26\" class=\"node\">\n<title>4682300768+</title>\n<ellipse fill=\"none\" stroke=\"black\" cx=\"1220\" cy=\"-290\" rx=\"27\" ry=\"18\"/>\n<text text-anchor=\"middle\" x=\"1220\" y=\"-286.3\" font-family=\"Times,serif\" font-size=\"14.00\">+</text>\n</g>\n<!-- 4682296976&#45;&gt;4682300768+ -->\n<g id=\"edge22\" class=\"edge\">\n<title>4682296976&#45;&gt;4682300768+</title>\n<path fill=\"none\" stroke=\"black\" d=\"M1155.21,-268.53C1165.31,-271.93 1176.03,-275.54 1185.74,-278.81\"/>\n<polygon fill=\"black\" stroke=\"black\" points=\"1184.84,-282.2 1195.43,-282.07 1187.07,-275.56 1184.84,-282.2\"/>\n</g>\n<!-- 4682296976exp -->\n<g id=\"node9\" class=\"node\">\n<title>4682296976exp</title>\n<ellipse fill=\"none\" stroke=\"black\" cx=\"1008\" cy=\"-255\" rx=\"27\" ry=\"18\"/>\n<text text-anchor=\"middle\" x=\"1008\" y=\"-251.3\" font-family=\"Times,serif\" font-size=\"14.00\">exp</text>\n</g>\n<!-- 4682296976exp&#45;&gt;4682296976 -->\n<g id=\"edge4\" class=\"edge\">\n<title>4682296976exp&#45;&gt;4682296976</title>\n<path fill=\"none\" stroke=\"black\" d=\"M1035.24,-255C1043.64,-255 1053.23,-255 1062.75,-255\"/>\n<polygon fill=\"black\" stroke=\"black\" points=\"1062.99,-258.5 1072.99,-255 1062.99,-251.5 1062.99,-258.5\"/>\n</g>\n<!-- 4682295968 -->\n<g id=\"node10\" class=\"node\">\n<title>4682295968</title>\n<polygon fill=\"none\" stroke=\"black\" points=\"655,-264.5 655,-333.5 737,-333.5 737,-264.5 655,-264.5\"/>\n<text text-anchor=\"middle\" x=\"696\" y=\"-318.3\" font-family=\"Times,serif\" font-size=\"14.00\"> </text>\n<polyline fill=\"none\" stroke=\"black\" points=\"655,-310.5 737,-310.5 \"/>\n<text text-anchor=\"middle\" x=\"696\" y=\"-295.3\" font-family=\"Times,serif\" font-size=\"14.00\">data 2.0000</text>\n<polyline fill=\"none\" stroke=\"black\" points=\"655,-287.5 737,-287.5 \"/>\n<text text-anchor=\"middle\" x=\"696\" y=\"-272.3\" font-family=\"Times,serif\" font-size=\"14.00\">grad 0.2203</text>\n</g>\n<!-- 4682297504* -->\n<g id=\"node12\" class=\"node\">\n<title>4682297504*</title>\n<ellipse fill=\"none\" stroke=\"black\" cx=\"800\" cy=\"-255\" rx=\"27\" ry=\"18\"/>\n<text text-anchor=\"middle\" x=\"800\" y=\"-251.3\" font-family=\"Times,serif\" font-size=\"14.00\">*</text>\n</g>\n<!-- 4682295968&#45;&gt;4682297504* -->\n<g id=\"edge11\" class=\"edge\">\n<title>4682295968&#45;&gt;4682297504*</title>\n<path fill=\"none\" stroke=\"black\" d=\"M737.02,-281.74C747.23,-277.33 758.06,-272.66 767.77,-268.47\"/>\n<polygon fill=\"black\" stroke=\"black\" points=\"769.23,-271.65 777.03,-264.48 766.46,-265.23 769.23,-271.65\"/>\n</g>\n<!-- 4682297504 -->\n<g id=\"node11\" class=\"node\">\n<title>4682297504</title>\n<polygon fill=\"none\" stroke=\"black\" points=\"863,-220.5 863,-289.5 945,-289.5 945,-220.5 863,-220.5\"/>\n<text text-anchor=\"middle\" x=\"904\" y=\"-274.3\" font-family=\"Times,serif\" font-size=\"14.00\"> </text>\n<polyline fill=\"none\" stroke=\"black\" points=\"863,-266.5 945,-266.5 \"/>\n<text text-anchor=\"middle\" x=\"904\" y=\"-251.3\" font-family=\"Times,serif\" font-size=\"14.00\">data 1.7627</text>\n<polyline fill=\"none\" stroke=\"black\" points=\"863,-243.5 945,-243.5 \"/>\n<text text-anchor=\"middle\" x=\"904\" y=\"-228.3\" font-family=\"Times,serif\" font-size=\"14.00\">grad 0.2500</text>\n</g>\n<!-- 4682297504&#45;&gt;4682296976exp -->\n<g id=\"edge25\" class=\"edge\">\n<title>4682297504&#45;&gt;4682296976exp</title>\n<path fill=\"none\" stroke=\"black\" d=\"M945.02,-255C953.5,-255 962.4,-255 970.73,-255\"/>\n<polygon fill=\"black\" stroke=\"black\" points=\"970.89,-258.5 980.89,-255 970.89,-251.5 970.89,-258.5\"/>\n</g>\n<!-- 4682297504*&#45;&gt;4682297504 -->\n<g id=\"edge5\" class=\"edge\">\n<title>4682297504*&#45;&gt;4682297504</title>\n<path fill=\"none\" stroke=\"black\" d=\"M827,-255C834.81,-255 843.65,-255 852.48,-255\"/>\n<polygon fill=\"black\" stroke=\"black\" points=\"852.76,-258.5 862.76,-255 852.76,-251.5 852.76,-258.5\"/>\n</g>\n<!-- 4682291360 -->\n<g id=\"node13\" class=\"node\">\n<title>4682291360</title>\n<polygon fill=\"none\" stroke=\"black\" points=\"655,-176.5 655,-245.5 737,-245.5 737,-176.5 655,-176.5\"/>\n<text text-anchor=\"middle\" x=\"696\" y=\"-230.3\" font-family=\"Times,serif\" font-size=\"14.00\">n</text>\n<polyline fill=\"none\" stroke=\"black\" points=\"655,-222.5 737,-222.5 \"/>\n<text text-anchor=\"middle\" x=\"696\" y=\"-207.3\" font-family=\"Times,serif\" font-size=\"14.00\">data 0.8814</text>\n<polyline fill=\"none\" stroke=\"black\" points=\"655,-199.5 737,-199.5 \"/>\n<text text-anchor=\"middle\" x=\"696\" y=\"-184.3\" font-family=\"Times,serif\" font-size=\"14.00\">grad 0.5000</text>\n</g>\n<!-- 4682291360&#45;&gt;4682297504* -->\n<g id=\"edge17\" class=\"edge\">\n<title>4682291360&#45;&gt;4682297504*</title>\n<path fill=\"none\" stroke=\"black\" d=\"M737.02,-228.26C747.23,-232.67 758.06,-237.34 767.77,-241.53\"/>\n<polygon fill=\"black\" stroke=\"black\" points=\"766.46,-244.77 777.03,-245.52 769.23,-238.35 766.46,-244.77\"/>\n</g>\n<!-- 4682291360+&#45;&gt;4682291360 -->\n<g id=\"edge6\" class=\"edge\">\n<title>4682291360+&#45;&gt;4682291360</title>\n<path fill=\"none\" stroke=\"black\" d=\"M619,-211C626.81,-211 635.65,-211 644.48,-211\"/>\n<polygon fill=\"black\" stroke=\"black\" points=\"644.76,-214.5 654.76,-211 644.76,-207.5 644.76,-214.5\"/>\n</g>\n<!-- 4682286752 -->\n<g id=\"node15\" class=\"node\">\n<title>4682286752</title>\n<polygon fill=\"none\" stroke=\"black\" points=\"0,-264.5 0,-333.5 86,-333.5 86,-264.5 0,-264.5\"/>\n<text text-anchor=\"middle\" x=\"43\" y=\"-318.3\" font-family=\"Times,serif\" font-size=\"14.00\">x1</text>\n<polyline fill=\"none\" stroke=\"black\" points=\"0,-310.5 86,-310.5 \"/>\n<text text-anchor=\"middle\" x=\"43\" y=\"-295.3\" font-family=\"Times,serif\" font-size=\"14.00\">data 2.0000</text>\n<polyline fill=\"none\" stroke=\"black\" points=\"0,-287.5 86,-287.5 \"/>\n<text text-anchor=\"middle\" x=\"43\" y=\"-272.3\" font-family=\"Times,serif\" font-size=\"14.00\">grad &#45;1.5000</text>\n</g>\n<!-- 4682286752&#45;&gt;4682296352* -->\n<g id=\"edge23\" class=\"edge\">\n<title>4682286752&#45;&gt;4682296352*</title>\n<path fill=\"none\" stroke=\"black\" d=\"M84.81,-264.47C97.9,-253.39 111.99,-241.47 123.54,-231.7\"/>\n<polygon fill=\"black\" stroke=\"black\" points=\"126.07,-234.14 131.44,-225.01 121.55,-228.8 126.07,-234.14\"/>\n</g>\n<!-- 4682297600 -->\n<g id=\"node16\" class=\"node\">\n<title>4682297600</title>\n<polygon fill=\"none\" stroke=\"black\" points=\"435,-220.5 435,-289.5 517,-289.5 517,-220.5 435,-220.5\"/>\n<text text-anchor=\"middle\" x=\"476\" y=\"-274.3\" font-family=\"Times,serif\" font-size=\"14.00\">b</text>\n<polyline fill=\"none\" stroke=\"black\" points=\"435,-266.5 517,-266.5 \"/>\n<text text-anchor=\"middle\" x=\"476\" y=\"-251.3\" font-family=\"Times,serif\" font-size=\"14.00\">data 6.8814</text>\n<polyline fill=\"none\" stroke=\"black\" points=\"435,-243.5 517,-243.5 \"/>\n<text text-anchor=\"middle\" x=\"476\" y=\"-228.3\" font-family=\"Times,serif\" font-size=\"14.00\">grad 0.5000</text>\n</g>\n<!-- 4682297600&#45;&gt;4682291360+ -->\n<g id=\"edge21\" class=\"edge\">\n<title>4682297600&#45;&gt;4682291360+</title>\n<path fill=\"none\" stroke=\"black\" d=\"M517.19,-239.49C530.78,-234.24 545.77,-228.46 558.67,-223.48\"/>\n<polygon fill=\"black\" stroke=\"black\" points=\"560,-226.72 568.07,-219.85 557.48,-220.19 560,-226.72\"/>\n</g>\n<!-- 4682290448 -->\n<g id=\"node17\" class=\"node\">\n<title>4682290448</title>\n<polygon fill=\"none\" stroke=\"black\" points=\"1731,-219.5 1731,-288.5 1813,-288.5 1813,-219.5 1731,-219.5\"/>\n<text text-anchor=\"middle\" x=\"1772\" y=\"-273.3\" font-family=\"Times,serif\" font-size=\"14.00\">o</text>\n<polyline fill=\"none\" stroke=\"black\" points=\"1731,-265.5 1813,-265.5 \"/>\n<text text-anchor=\"middle\" x=\"1772\" y=\"-250.3\" font-family=\"Times,serif\" font-size=\"14.00\">data 0.7071</text>\n<polyline fill=\"none\" stroke=\"black\" points=\"1731,-242.5 1813,-242.5 \"/>\n<text text-anchor=\"middle\" x=\"1772\" y=\"-227.3\" font-family=\"Times,serif\" font-size=\"14.00\">grad 1.0000</text>\n</g>\n<!-- 4682290448* -->\n<g id=\"node18\" class=\"node\">\n<title>4682290448*</title>\n<ellipse fill=\"none\" stroke=\"black\" cx=\"1668\" cy=\"-254\" rx=\"27\" ry=\"18\"/>\n<text text-anchor=\"middle\" x=\"1668\" y=\"-250.3\" font-family=\"Times,serif\" font-size=\"14.00\">*</text>\n</g>\n<!-- 4682290448*&#45;&gt;4682290448 -->\n<g id=\"edge7\" class=\"edge\">\n<title>4682290448*&#45;&gt;4682290448</title>\n<path fill=\"none\" stroke=\"black\" d=\"M1695,-254C1702.81,-254 1711.65,-254 1720.48,-254\"/>\n<polygon fill=\"black\" stroke=\"black\" points=\"1720.76,-257.5 1730.76,-254 1720.76,-250.5 1720.76,-257.5\"/>\n</g>\n<!-- 4682289920 -->\n<g id=\"node19\" class=\"node\">\n<title>4682289920</title>\n<polygon fill=\"none\" stroke=\"black\" points=\"2,-0.5 2,-69.5 84,-69.5 84,-0.5 2,-0.5\"/>\n<text text-anchor=\"middle\" x=\"43\" y=\"-54.3\" font-family=\"Times,serif\" font-size=\"14.00\">x2</text>\n<polyline fill=\"none\" stroke=\"black\" points=\"2,-46.5 84,-46.5 \"/>\n<text text-anchor=\"middle\" x=\"43\" y=\"-31.3\" font-family=\"Times,serif\" font-size=\"14.00\">data 0.0000</text>\n<polyline fill=\"none\" stroke=\"black\" points=\"2,-23.5 84,-23.5 \"/>\n<text text-anchor=\"middle\" x=\"43\" y=\"-8.3\" font-family=\"Times,serif\" font-size=\"14.00\">grad 0.5000</text>\n</g>\n<!-- 4682289920&#45;&gt;4682295920* -->\n<g id=\"edge27\" class=\"edge\">\n<title>4682289920&#45;&gt;4682295920*</title>\n<path fill=\"none\" stroke=\"black\" d=\"M84.21,-69.02C97.58,-80.34 112.06,-92.59 123.83,-102.55\"/>\n<polygon fill=\"black\" stroke=\"black\" points=\"121.61,-105.26 131.51,-109.04 126.13,-99.91 121.61,-105.26\"/>\n</g>\n<!-- 4682296640 -->\n<g id=\"node20\" class=\"node\">\n<title>4682296640</title>\n<polygon fill=\"none\" stroke=\"black\" points=\"1405,-184.5 1405,-253.5 1487,-253.5 1487,-184.5 1405,-184.5\"/>\n<text text-anchor=\"middle\" x=\"1446\" y=\"-238.3\" font-family=\"Times,serif\" font-size=\"14.00\"> </text>\n<polyline fill=\"none\" stroke=\"black\" points=\"1405,-230.5 1487,-230.5 \"/>\n<text text-anchor=\"middle\" x=\"1446\" y=\"-215.3\" font-family=\"Times,serif\" font-size=\"14.00\">data 4.8284</text>\n<polyline fill=\"none\" stroke=\"black\" points=\"1405,-207.5 1487,-207.5 \"/>\n<text text-anchor=\"middle\" x=\"1446\" y=\"-192.3\" font-family=\"Times,serif\" font-size=\"14.00\">grad 0.1464</text>\n</g>\n<!-- 4682296640&#45;&gt;4682290448* -->\n<g id=\"edge12\" class=\"edge\">\n<title>4682296640&#45;&gt;4682290448*</title>\n<path fill=\"none\" stroke=\"black\" d=\"M1487.27,-225.34C1519.2,-230.37 1564.96,-237.6 1605,-244 1613.67,-245.38 1623.01,-246.89 1631.76,-248.3\"/>\n<polygon fill=\"black\" stroke=\"black\" points=\"1631.23,-251.76 1641.66,-249.9 1632.35,-244.85 1631.23,-251.76\"/>\n</g>\n<!-- 4682296640+&#45;&gt;4682296640 -->\n<g id=\"edge8\" class=\"edge\">\n<title>4682296640+&#45;&gt;4682296640</title>\n<path fill=\"none\" stroke=\"black\" d=\"M1247.13,-219C1283.18,-219 1348.9,-219 1394.66,-219\"/>\n<polygon fill=\"black\" stroke=\"black\" points=\"1394.68,-222.5 1404.68,-219 1394.68,-215.5 1394.68,-222.5\"/>\n</g>\n<!-- 4682294096 -->\n<g id=\"node22\" class=\"node\">\n<title>4682294096</title>\n<polygon fill=\"none\" stroke=\"black\" points=\"0.5,-176.5 0.5,-245.5 85.5,-245.5 85.5,-176.5 0.5,-176.5\"/>\n<text text-anchor=\"middle\" x=\"43\" y=\"-230.3\" font-family=\"Times,serif\" font-size=\"14.00\">w1</text>\n<polyline fill=\"none\" stroke=\"black\" points=\"0.5,-222.5 85.5,-222.5 \"/>\n<text text-anchor=\"middle\" x=\"43\" y=\"-207.3\" font-family=\"Times,serif\" font-size=\"14.00\">data &#45;3.0000</text>\n<polyline fill=\"none\" stroke=\"black\" points=\"0.5,-199.5 85.5,-199.5 \"/>\n<text text-anchor=\"middle\" x=\"43\" y=\"-184.3\" font-family=\"Times,serif\" font-size=\"14.00\">grad 1.0000</text>\n</g>\n<!-- 4682294096&#45;&gt;4682296352* -->\n<g id=\"edge19\" class=\"edge\">\n<title>4682294096&#45;&gt;4682296352*</title>\n<path fill=\"none\" stroke=\"black\" d=\"M85.7,-211C94.28,-211 103.26,-211 111.63,-211\"/>\n<polygon fill=\"black\" stroke=\"black\" points=\"111.85,-214.5 121.85,-211 111.85,-207.5 111.85,-214.5\"/>\n</g>\n<!-- 4682301248 -->\n<g id=\"node23\" class=\"node\">\n<title>4682301248</title>\n<polygon fill=\"none\" stroke=\"black\" points=\"1523,-253.5 1523,-322.5 1605,-322.5 1605,-253.5 1523,-253.5\"/>\n<text text-anchor=\"middle\" x=\"1564\" y=\"-307.3\" font-family=\"Times,serif\" font-size=\"14.00\"> </text>\n<polyline fill=\"none\" stroke=\"black\" points=\"1523,-299.5 1605,-299.5 \"/>\n<text text-anchor=\"middle\" x=\"1564\" y=\"-284.3\" font-family=\"Times,serif\" font-size=\"14.00\">data 0.1464</text>\n<polyline fill=\"none\" stroke=\"black\" points=\"1523,-276.5 1605,-276.5 \"/>\n<text text-anchor=\"middle\" x=\"1564\" y=\"-261.3\" font-family=\"Times,serif\" font-size=\"14.00\">grad 4.8284</text>\n</g>\n<!-- 4682301248&#45;&gt;4682290448* -->\n<g id=\"edge20\" class=\"edge\">\n<title>4682301248&#45;&gt;4682290448*</title>\n<path fill=\"none\" stroke=\"black\" d=\"M1605.02,-274.66C1614.61,-271.46 1624.75,-268.08 1633.98,-265.01\"/>\n<polygon fill=\"black\" stroke=\"black\" points=\"1635.2,-268.29 1643.58,-261.81 1632.98,-261.65 1635.2,-268.29\"/>\n</g>\n<!-- 4682301248**&#45;1 -->\n<g id=\"node24\" class=\"node\">\n<title>4682301248**&#45;1</title>\n<ellipse fill=\"none\" stroke=\"black\" cx=\"1446\" cy=\"-290\" rx=\"27\" ry=\"18\"/>\n<text text-anchor=\"middle\" x=\"1446\" y=\"-286.3\" font-family=\"Times,serif\" font-size=\"14.00\">**&#45;1</text>\n</g>\n<!-- 4682301248**&#45;1&#45;&gt;4682301248 -->\n<g id=\"edge9\" class=\"edge\">\n<title>4682301248**&#45;1&#45;&gt;4682301248</title>\n<path fill=\"none\" stroke=\"black\" d=\"M1473.03,-289.55C1484.74,-289.35 1498.98,-289.1 1512.65,-288.87\"/>\n<polygon fill=\"black\" stroke=\"black\" points=\"1512.99,-292.36 1522.93,-288.69 1512.87,-285.36 1512.99,-292.36\"/>\n</g>\n<!-- 4682300768 -->\n<g id=\"node25\" class=\"node\">\n<title>4682300768</title>\n<polygon fill=\"none\" stroke=\"black\" points=\"1283,-255.5 1283,-324.5 1369,-324.5 1369,-255.5 1283,-255.5\"/>\n<text text-anchor=\"middle\" x=\"1326\" y=\"-309.3\" font-family=\"Times,serif\" font-size=\"14.00\"> </text>\n<polyline fill=\"none\" stroke=\"black\" points=\"1283,-301.5 1369,-301.5 \"/>\n<text text-anchor=\"middle\" x=\"1326\" y=\"-286.3\" font-family=\"Times,serif\" font-size=\"14.00\">data 6.8284</text>\n<polyline fill=\"none\" stroke=\"black\" points=\"1283,-278.5 1369,-278.5 \"/>\n<text text-anchor=\"middle\" x=\"1326\" y=\"-263.3\" font-family=\"Times,serif\" font-size=\"14.00\">grad &#45;0.1036</text>\n</g>\n<!-- 4682300768&#45;&gt;4682301248**&#45;1 -->\n<g id=\"edge16\" class=\"edge\">\n<title>4682300768&#45;&gt;4682301248**&#45;1</title>\n<path fill=\"none\" stroke=\"black\" d=\"M1369.27,-290C1382.18,-290 1396.27,-290 1408.75,-290\"/>\n<polygon fill=\"black\" stroke=\"black\" points=\"1408.79,-293.5 1418.79,-290 1408.79,-286.5 1408.79,-293.5\"/>\n</g>\n<!-- 4682300768+&#45;&gt;4682300768 -->\n<g id=\"edge10\" class=\"edge\">\n<title>4682300768+&#45;&gt;4682300768</title>\n<path fill=\"none\" stroke=\"black\" d=\"M1247.24,-290C1255.11,-290 1264.04,-290 1272.96,-290\"/>\n<polygon fill=\"black\" stroke=\"black\" points=\"1272.98,-293.5 1282.98,-290 1272.98,-286.5 1272.98,-293.5\"/>\n</g>\n<!-- 4682300816 -->\n<g id=\"node27\" class=\"node\">\n<title>4682300816</title>\n<polygon fill=\"none\" stroke=\"black\" points=\"1071,-308.5 1071,-377.5 1157,-377.5 1157,-308.5 1071,-308.5\"/>\n<text text-anchor=\"middle\" x=\"1114\" y=\"-362.3\" font-family=\"Times,serif\" font-size=\"14.00\"> </text>\n<polyline fill=\"none\" stroke=\"black\" points=\"1071,-354.5 1157,-354.5 \"/>\n<text text-anchor=\"middle\" x=\"1114\" y=\"-339.3\" font-family=\"Times,serif\" font-size=\"14.00\">data 1.0000</text>\n<polyline fill=\"none\" stroke=\"black\" points=\"1071,-331.5 1157,-331.5 \"/>\n<text text-anchor=\"middle\" x=\"1114\" y=\"-316.3\" font-family=\"Times,serif\" font-size=\"14.00\">grad &#45;0.1036</text>\n</g>\n<!-- 4682300816&#45;&gt;4682300768+ -->\n<g id=\"edge18\" class=\"edge\">\n<title>4682300816&#45;&gt;4682300768+</title>\n<path fill=\"none\" stroke=\"black\" d=\"M1157,-321.6C1167.68,-316.15 1178.95,-310.41 1188.9,-305.34\"/>\n<polygon fill=\"black\" stroke=\"black\" points=\"1190.66,-308.37 1197.98,-300.71 1187.48,-302.13 1190.66,-308.37\"/>\n</g>\n<!-- 4682297792 -->\n<g id=\"node28\" class=\"node\">\n<title>4682297792</title>\n<polygon fill=\"none\" stroke=\"black\" points=\"1071.5,-132.5 1071.5,-201.5 1156.5,-201.5 1156.5,-132.5 1071.5,-132.5\"/>\n<text text-anchor=\"middle\" x=\"1114\" y=\"-186.3\" font-family=\"Times,serif\" font-size=\"14.00\"> </text>\n<polyline fill=\"none\" stroke=\"black\" points=\"1071.5,-178.5 1156.5,-178.5 \"/>\n<text text-anchor=\"middle\" x=\"1114\" y=\"-163.3\" font-family=\"Times,serif\" font-size=\"14.00\">data &#45;1.0000</text>\n<polyline fill=\"none\" stroke=\"black\" points=\"1071.5,-155.5 1156.5,-155.5 \"/>\n<text text-anchor=\"middle\" x=\"1114\" y=\"-140.3\" font-family=\"Times,serif\" font-size=\"14.00\">grad 0.1464</text>\n</g>\n<!-- 4682297792&#45;&gt;4682296640+ -->\n<g id=\"edge28\" class=\"edge\">\n<title>4682297792&#45;&gt;4682296640+</title>\n<path fill=\"none\" stroke=\"black\" d=\"M1156.7,-187.85C1167.41,-193.2 1178.72,-198.86 1188.73,-203.86\"/>\n<polygon fill=\"black\" stroke=\"black\" points=\"1187.34,-207.09 1197.85,-208.43 1190.48,-200.82 1187.34,-207.09\"/>\n</g>\n</g>\n</svg>\n",
      "text/plain": [
       "<graphviz.graphs.Digraph at 0x117161720>"
      ]
     },
     "execution_count": 33,
     "metadata": {},
     "output_type": "execute_result"
    }
   ],
   "source": [
    "draw_dot(o)"
   ]
  },
  {
   "cell_type": "code",
   "execution_count": null,
   "metadata": {},
   "outputs": [],
   "source": []
  }
 ],
 "metadata": {
  "kernelspec": {
   "display_name": "Python 3.10.5 ('py310')",
   "language": "python",
   "name": "python3"
  },
  "language_info": {
   "codemirror_mode": {
    "name": "ipython",
    "version": 3
   },
   "file_extension": ".py",
   "mimetype": "text/x-python",
   "name": "python",
   "nbconvert_exporter": "python",
   "pygments_lexer": "ipython3",
   "version": "3.10.5"
  },
  "orig_nbformat": 4,
  "vscode": {
   "interpreter": {
    "hash": "e5e035c07b937c0cec65b050981d4d6eb0c84c9691eee6421161eebec8973508"
   }
  }
 },
 "nbformat": 4,
 "nbformat_minor": 2
}
